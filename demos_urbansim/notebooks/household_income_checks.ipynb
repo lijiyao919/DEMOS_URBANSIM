{
 "cells": [
  {
   "cell_type": "code",
   "execution_count": 1,
   "metadata": {},
   "outputs": [],
   "source": [
    "from pandas import HDFStore"
   ]
  },
  {
   "cell_type": "code",
   "execution_count": 8,
   "metadata": {},
   "outputs": [],
   "source": [
    "output = HDFStore(\"../data/model_data_2020.h5\")\n",
    "hh_17 = output[\"/2017/households\"]\n",
    "hh_18 = output[\"/2018/households\"]\n",
    "hh_19 = output[\"/2019/households\"]\n",
    "hh_20 = output[\"/2020/households\"]"
   ]
  },
  {
   "cell_type": "code",
   "execution_count": 11,
   "metadata": {},
   "outputs": [],
   "source": [
    "indices = set(hh_17.index) & set(hh_18.index) & set(hh_19.index) & set(hh_20.index)\n",
    "hh_17 = hh_17.loc[indices]\n",
    "hh_18 = hh_18.loc[indices]\n",
    "hh_19 = hh_19.loc[indices]\n",
    "hh_20 = hh_20.loc[indices]"
   ]
  },
  {
   "cell_type": "code",
   "execution_count": 36,
   "metadata": {},
   "outputs": [
    {
     "data": {
      "text/plain": [
       "count    2.232966e+06\n",
       "mean     1.264392e+03\n",
       "std      1.312392e+04\n",
       "min     -9.779873e+05\n",
       "25%      0.000000e+00\n",
       "50%      1.156964e+03\n",
       "75%      3.682062e+03\n",
       "max      5.230314e+05\n",
       "Name: income, dtype: float64"
      ]
     },
     "execution_count": 36,
     "metadata": {},
     "output_type": "execute_result"
    }
   ],
   "source": [
    "(hh_18[\"income\"] - hh_17[\"income\"]).describe()"
   ]
  },
  {
   "cell_type": "code",
   "execution_count": 40,
   "metadata": {},
   "outputs": [
    {
     "data": {
      "text/plain": [
       "count    2.232966e+06\n",
       "mean     5.032527e+03\n",
       "std      1.547716e+04\n",
       "min     -9.164253e+05\n",
       "25%      3.301762e+02\n",
       "50%      3.714855e+03\n",
       "75%      8.376110e+03\n",
       "max      5.600333e+05\n",
       "Name: income, dtype: float64"
      ]
     },
     "execution_count": 40,
     "metadata": {},
     "output_type": "execute_result"
    }
   ],
   "source": [
    "(hh_20[\"income\"] - hh_19[\"income\"]).describe()"
   ]
  },
  {
   "cell_type": "code",
   "execution_count": 38,
   "metadata": {},
   "outputs": [
    {
     "data": {
      "text/plain": [
       "count    2.232966e+06\n",
       "mean     8.838845e+03\n",
       "std      2.739236e+04\n",
       "min     -9.404718e+05\n",
       "25%      1.659300e+02\n",
       "50%      6.830468e+03\n",
       "75%      1.641815e+04\n",
       "max      6.098707e+05\n",
       "Name: income, dtype: float64"
      ]
     },
     "execution_count": 38,
     "metadata": {},
     "output_type": "execute_result"
    }
   ],
   "source": [
    "(hh_20[\"income\"] - hh_17[\"income\"]).describe()"
   ]
  }
 ],
 "metadata": {
  "interpreter": {
   "hash": "5ceaccdbff584dc2806a284c92feef4bd2f300f3edbe859ecb120e3b1835c88d"
  },
  "kernelspec": {
   "display_name": "Python 3.8.11 ('probaflow3.8': conda)",
   "language": "python",
   "name": "python3"
  },
  "language_info": {
   "codemirror_mode": {
    "name": "ipython",
    "version": 3
   },
   "file_extension": ".py",
   "mimetype": "text/x-python",
   "name": "python",
   "nbconvert_exporter": "python",
   "pygments_lexer": "ipython3",
   "version": "3.8.11"
  },
  "orig_nbformat": 4
 },
 "nbformat": 4,
 "nbformat_minor": 2
}
