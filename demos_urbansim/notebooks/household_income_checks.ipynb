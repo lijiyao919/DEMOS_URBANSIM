{
 "cells": [
  {
   "cell_type": "code",
   "execution_count": 1,
   "metadata": {},
   "outputs": [],
   "source": [
    "from pandas import HDFStore"
   ]
  },
  {
   "cell_type": "code",
   "execution_count": 6,
   "metadata": {},
   "outputs": [],
   "source": [
    "output = HDFStore(\"../data/model_data_06197001_atlas_2020.h5\")\n",
    "# hh_17 = output[\"/2017/households\"]\n",
    "hh_18 = output[\"/2018/households\"]\n",
    "hh_19 = output[\"/2019/households\"]\n",
    "hh_20 = output[\"/2020/households\"]"
   ]
  },
  {
   "cell_type": "code",
   "execution_count": 7,
   "metadata": {},
   "outputs": [
    {
     "name": "stderr",
     "output_type": "stream",
     "text": [
      "/tmp/ipykernel_16563/44962454.py:3: FutureWarning: Passing a set as an indexer is deprecated and will raise in a future version. Use a list instead.\n",
      "  hh_18 = hh_18.loc[indices]\n",
      "/tmp/ipykernel_16563/44962454.py:4: FutureWarning: Passing a set as an indexer is deprecated and will raise in a future version. Use a list instead.\n",
      "  hh_19 = hh_19.loc[indices]\n",
      "/tmp/ipykernel_16563/44962454.py:5: FutureWarning: Passing a set as an indexer is deprecated and will raise in a future version. Use a list instead.\n",
      "  hh_20 = hh_20.loc[indices]\n"
     ]
    }
   ],
   "source": [
    "indices = set(hh_18.index) & set(hh_19.index) & set(hh_20.index)\n",
    "# hh_17 = hh_17.loc[indices]\n",
    "hh_18 = hh_18.loc[indices]\n",
    "hh_19 = hh_19.loc[indices]\n",
    "hh_20 = hh_20.loc[indices]"
   ]
  },
  {
   "cell_type": "code",
   "execution_count": 8,
   "metadata": {},
   "outputs": [
    {
     "data": {
      "text/plain": [
       "count    2.535758e+06\n",
       "mean     3.682121e+03\n",
       "std      2.206171e+04\n",
       "min     -7.703801e+05\n",
       "25%      0.000000e+00\n",
       "50%      3.350747e+03\n",
       "75%      8.315672e+03\n",
       "max      5.740461e+05\n",
       "Name: income, dtype: float64"
      ]
     },
     "execution_count": 8,
     "metadata": {},
     "output_type": "execute_result"
    }
   ],
   "source": [
    "(hh_19[\"income\"] - hh_18[\"income\"]).describe()"
   ]
  },
  {
   "cell_type": "code",
   "execution_count": 36,
   "metadata": {},
   "outputs": [
    {
     "data": {
      "text/plain": [
       "count    2.232966e+06\n",
       "mean     1.264392e+03\n",
       "std      1.312392e+04\n",
       "min     -9.779873e+05\n",
       "25%      0.000000e+00\n",
       "50%      1.156964e+03\n",
       "75%      3.682062e+03\n",
       "max      5.230314e+05\n",
       "Name: income, dtype: float64"
      ]
     },
     "execution_count": 36,
     "metadata": {},
     "output_type": "execute_result"
    }
   ],
   "source": [
    "(hh_18[\"income\"] - hh_17[\"income\"]).describe()"
   ]
  },
  {
   "cell_type": "code",
   "execution_count": 9,
   "metadata": {},
   "outputs": [
    {
     "data": {
      "text/plain": [
       "count    2.535758e+06\n",
       "mean     8.449609e+03\n",
       "std      2.159139e+04\n",
       "min     -8.883349e+05\n",
       "25%      5.471708e+02\n",
       "50%      6.274372e+03\n",
       "75%      1.429648e+04\n",
       "max      6.574989e+05\n",
       "Name: income, dtype: float64"
      ]
     },
     "execution_count": 9,
     "metadata": {},
     "output_type": "execute_result"
    }
   ],
   "source": [
    "(hh_20[\"income\"] - hh_19[\"income\"]).describe()"
   ]
  },
  {
   "cell_type": "code",
   "execution_count": 40,
   "metadata": {},
   "outputs": [
    {
     "data": {
      "text/plain": [
       "count    2.232966e+06\n",
       "mean     5.032527e+03\n",
       "std      1.547716e+04\n",
       "min     -9.164253e+05\n",
       "25%      3.301762e+02\n",
       "50%      3.714855e+03\n",
       "75%      8.376110e+03\n",
       "max      5.600333e+05\n",
       "Name: income, dtype: float64"
      ]
     },
     "execution_count": 40,
     "metadata": {},
     "output_type": "execute_result"
    }
   ],
   "source": [
    "(hh_20[\"income\"] - hh_19[\"income\"]).describe()"
   ]
  },
  {
   "cell_type": "code",
   "execution_count": 10,
   "metadata": {},
   "outputs": [
    {
     "data": {
      "text/plain": [
       "count    2.535758e+06\n",
       "mean     1.213173e+04\n",
       "std      3.500342e+04\n",
       "min     -7.707126e+05\n",
       "25%      1.035685e+02\n",
       "50%      9.321169e+03\n",
       "75%      2.236593e+04\n",
       "max      7.252982e+05\n",
       "Name: income, dtype: float64"
      ]
     },
     "execution_count": 10,
     "metadata": {},
     "output_type": "execute_result"
    }
   ],
   "source": [
    "(hh_20[\"income\"] - hh_18[\"income\"]).describe()"
   ]
  },
  {
   "cell_type": "code",
   "execution_count": 38,
   "metadata": {},
   "outputs": [
    {
     "data": {
      "text/plain": [
       "count    2.232966e+06\n",
       "mean     8.838845e+03\n",
       "std      2.739236e+04\n",
       "min     -9.404718e+05\n",
       "25%      1.659300e+02\n",
       "50%      6.830468e+03\n",
       "75%      1.641815e+04\n",
       "max      6.098707e+05\n",
       "Name: income, dtype: float64"
      ]
     },
     "execution_count": 38,
     "metadata": {},
     "output_type": "execute_result"
    }
   ],
   "source": [
    "(hh_20[\"income\"] - hh_17[\"income\"]).describe()"
   ]
  },
  {
   "cell_type": "code",
   "execution_count": 15,
   "metadata": {},
   "outputs": [
    {
     "data": {
      "text/plain": [
       "0"
      ]
     },
     "execution_count": 15,
     "metadata": {},
     "output_type": "execute_result"
    }
   ],
   "source": [
    "(hh_20[\"block_id\"]==-1).sum()"
   ]
  },
  {
   "cell_type": "code",
   "execution_count": 17,
   "metadata": {},
   "outputs": [
    {
     "data": {
      "text/plain": [
       "0"
      ]
     },
     "execution_count": 17,
     "metadata": {},
     "output_type": "execute_result"
    }
   ],
   "source": [
    "(hh_19[\"block_id\"]==-1).sum()"
   ]
  },
  {
   "cell_type": "code",
   "execution_count": 19,
   "metadata": {},
   "outputs": [
    {
     "data": {
      "text/plain": [
       "0"
      ]
     },
     "execution_count": 19,
     "metadata": {},
     "output_type": "execute_result"
    }
   ],
   "source": [
    "(hh_18[\"block_id\"]==-1).sum()"
   ]
  },
  {
   "cell_type": "code",
   "execution_count": 26,
   "metadata": {},
   "outputs": [
    {
     "name": "stdout",
     "output_type": "stream",
     "text": [
      "0\n",
      "0\n",
      "0\n"
     ]
    }
   ],
   "source": [
    "print((hh_18[\"lcm_county_id\"]==-1).sum())\n",
    "print((hh_19[\"lcm_county_id\"]==-1).sum())\n",
    "print((hh_20[\"lcm_county_id\"]==-1).sum())"
   ]
  },
  {
   "cell_type": "code",
   "execution_count": 27,
   "metadata": {},
   "outputs": [
    {
     "name": "stdout",
     "output_type": "stream",
     "text": [
      "0\n",
      "0\n",
      "0\n"
     ]
    }
   ],
   "source": [
    "print((hh_18[\"lcm_county_id\"]==\"-1\").sum())\n",
    "print((hh_19[\"lcm_county_id\"]==\"-1\").sum())\n",
    "print((hh_20[\"lcm_county_id\"]==\"-1\").sum())"
   ]
  },
  {
   "cell_type": "code",
   "execution_count": null,
   "metadata": {},
   "outputs": [],
   "source": []
  }
 ],
 "metadata": {
  "interpreter": {
   "hash": "5ceaccdbff584dc2806a284c92feef4bd2f300f3edbe859ecb120e3b1835c88d"
  },
  "kernelspec": {
   "display_name": "Python 3.8.11 ('probaflow3.8': conda)",
   "language": "python",
   "name": "python3"
  },
  "language_info": {
   "codemirror_mode": {
    "name": "ipython",
    "version": 3
   },
   "file_extension": ".py",
   "mimetype": "text/x-python",
   "name": "python",
   "nbconvert_exporter": "python",
   "pygments_lexer": "ipython3",
   "version": "3.8.13"
  },
  "orig_nbformat": 4
 },
 "nbformat": 4,
 "nbformat_minor": 2
}
