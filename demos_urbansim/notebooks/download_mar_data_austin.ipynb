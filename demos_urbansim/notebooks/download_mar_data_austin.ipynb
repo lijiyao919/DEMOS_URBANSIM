{
 "cells": [
  {
   "cell_type": "code",
   "execution_count": 1,
   "metadata": {},
   "outputs": [],
   "source": [
    "%load_ext autoreload\n",
    "%autoreload 2\n",
    "from synthpop.census_helpers import Census\n",
    "from synthpop import categorizer as cat\n",
    "import pandas as pd\n",
    "import numpy as np\n",
    "import os\n",
    "pd.set_option('display.max_columns', 500)"
   ]
  },
  {
   "cell_type": "code",
   "execution_count": 2,
   "metadata": {},
   "outputs": [
    {
     "name": "stderr",
     "output_type": "stream",
     "text": [
      "/home/ubuntu/github/synthpop/synthpop/census_helpers.py:208: DtypeWarning: Columns (107,108,109) have mixed types. Specify dtype option on import or set low_memory=False.\n",
      "  pums_df = pd.read_csv(loc, dtype={\n"
     ]
    }
   ],
   "source": [
    "c = Census(\"9a4c2a21c5df73622f43cf008155c45b68067d40\")\n",
    "p_pums = c.download_population_pums(\"48\")"
   ]
  },
  {
   "cell_type": "code",
   "execution_count": 3,
   "metadata": {},
   "outputs": [],
   "source": [
    "austin = pd.HDFStore(\"../data/custom_mpo_48197301_model_data.h5\")"
   ]
  },
  {
   "cell_type": "code",
   "execution_count": 4,
   "metadata": {},
   "outputs": [],
   "source": [
    "austin_hh = austin[\"households\"]\n",
    "austin_p = austin[\"persons\"]"
   ]
  },
  {
   "cell_type": "code",
   "execution_count": 5,
   "metadata": {},
   "outputs": [],
   "source": [
    "austin_p = pd.merge(austin_hh[\"serialno\"], austin_p, left_index=True, right_on='household_id')\n",
    "p_pums[\"serialno\"] = p_pums[\"serialno\"].astype(\"int64\")\n",
    "austin_p = pd.merge(austin_p.reset_index(), p_pums[[\"serialno\",\"SPORDER\", \"MAR\"]], left_on=['serialno', 'member_id'],\n",
    "                   right_on= ['serialno', 'SPORDER']).set_index(\"person_id\")"
   ]
  },
  {
   "cell_type": "code",
   "execution_count": 6,
   "metadata": {},
   "outputs": [
    {
     "data": {
      "text/plain": [
       "Index(['serialno', 'age', 'earning', 'edu', 'hispanic', 'hours', 'member_id',\n",
       "       'race_id', 'relate', 'sex', 'student', 'work_at_home', 'worker',\n",
       "       'household_id', 'person_age', 'person_sex', 'race', 'hispanic.1',\n",
       "       'p_hispanic', 'work_zone_id', 'school_zone_id', 'SPORDER', 'MAR'],\n",
       "      dtype='object')"
      ]
     },
     "execution_count": 6,
     "metadata": {},
     "output_type": "execute_result"
    }
   ],
   "source": [
    "austin_p.columns"
   ]
  },
  {
   "cell_type": "code",
   "execution_count": 8,
   "metadata": {},
   "outputs": [],
   "source": [
    "austin[\"persons\"] = austin_p\n",
    "austin.close()"
   ]
  },
  {
   "cell_type": "code",
   "execution_count": 14,
   "metadata": {},
   "outputs": [
    {
     "data": {
      "text/html": [
       "<div>\n",
       "<style scoped>\n",
       "    .dataframe tbody tr th:only-of-type {\n",
       "        vertical-align: middle;\n",
       "    }\n",
       "\n",
       "    .dataframe tbody tr th {\n",
       "        vertical-align: top;\n",
       "    }\n",
       "\n",
       "    .dataframe thead th {\n",
       "        text-align: right;\n",
       "    }\n",
       "</style>\n",
       "<table border=\"1\" class=\"dataframe\">\n",
       "  <thead>\n",
       "    <tr style=\"text-align: right;\">\n",
       "      <th></th>\n",
       "      <th></th>\n",
       "      <th>auto_ivtt_8_9_am</th>\n",
       "      <th>auto_cost_8_9_am</th>\n",
       "    </tr>\n",
       "    <tr>\n",
       "      <th>from_zone_id</th>\n",
       "      <th>to_zone_id</th>\n",
       "      <th></th>\n",
       "      <th></th>\n",
       "    </tr>\n",
       "  </thead>\n",
       "  <tbody>\n",
       "    <tr>\n",
       "      <th rowspan=\"5\" valign=\"top\">0</th>\n",
       "      <th>0</th>\n",
       "      <td>0.000000</td>\n",
       "      <td>0.000000</td>\n",
       "    </tr>\n",
       "    <tr>\n",
       "      <th>1</th>\n",
       "      <td>4.785752</td>\n",
       "      <td>0.278894</td>\n",
       "    </tr>\n",
       "    <tr>\n",
       "      <th>2</th>\n",
       "      <td>7.190386</td>\n",
       "      <td>0.382905</td>\n",
       "    </tr>\n",
       "    <tr>\n",
       "      <th>3</th>\n",
       "      <td>7.557909</td>\n",
       "      <td>0.452640</td>\n",
       "    </tr>\n",
       "    <tr>\n",
       "      <th>4</th>\n",
       "      <td>8.416817</td>\n",
       "      <td>0.479763</td>\n",
       "    </tr>\n",
       "    <tr>\n",
       "      <th>...</th>\n",
       "      <th>...</th>\n",
       "      <td>...</td>\n",
       "      <td>...</td>\n",
       "    </tr>\n",
       "    <tr>\n",
       "      <th rowspan=\"5\" valign=\"top\">2160</th>\n",
       "      <th>2156</th>\n",
       "      <td>14.740949</td>\n",
       "      <td>1.289929</td>\n",
       "    </tr>\n",
       "    <tr>\n",
       "      <th>2157</th>\n",
       "      <td>11.517707</td>\n",
       "      <td>1.011176</td>\n",
       "    </tr>\n",
       "    <tr>\n",
       "      <th>2158</th>\n",
       "      <td>12.055138</td>\n",
       "      <td>1.086580</td>\n",
       "    </tr>\n",
       "    <tr>\n",
       "      <th>2159</th>\n",
       "      <td>13.448853</td>\n",
       "      <td>1.465222</td>\n",
       "    </tr>\n",
       "    <tr>\n",
       "      <th>2160</th>\n",
       "      <td>3.119560</td>\n",
       "      <td>0.234500</td>\n",
       "    </tr>\n",
       "  </tbody>\n",
       "</table>\n",
       "<p>4669921 rows × 2 columns</p>\n",
       "</div>"
      ],
      "text/plain": [
       "                         auto_ivtt_8_9_am  auto_cost_8_9_am\n",
       "from_zone_id to_zone_id                                    \n",
       "0            0                   0.000000          0.000000\n",
       "             1                   4.785752          0.278894\n",
       "             2                   7.190386          0.382905\n",
       "             3                   7.557909          0.452640\n",
       "             4                   8.416817          0.479763\n",
       "...                                   ...               ...\n",
       "2160         2156               14.740949          1.289929\n",
       "             2157               11.517707          1.011176\n",
       "             2158               12.055138          1.086580\n",
       "             2159               13.448853          1.465222\n",
       "             2160                3.119560          0.234500\n",
       "\n",
       "[4669921 rows x 2 columns]"
      ]
     },
     "execution_count": 14,
     "metadata": {},
     "output_type": "execute_result"
    }
   ],
   "source": [
    "austin[\"travel_data\"]"
   ]
  },
  {
   "cell_type": "code",
   "execution_count": null,
   "metadata": {},
   "outputs": [],
   "source": []
  }
 ],
 "metadata": {
  "interpreter": {
   "hash": "5ceaccdbff584dc2806a284c92feef4bd2f300f3edbe859ecb120e3b1835c88d"
  },
  "kernelspec": {
   "display_name": "Python 3.8.11 ('probaflow3.8': conda)",
   "language": "python",
   "name": "python3"
  },
  "language_info": {
   "codemirror_mode": {
    "name": "ipython",
    "version": 3
   },
   "file_extension": ".py",
   "mimetype": "text/x-python",
   "name": "python",
   "nbconvert_exporter": "python",
   "pygments_lexer": "ipython3",
   "version": "3.8.13"
  },
  "orig_nbformat": 4
 },
 "nbformat": 4,
 "nbformat_minor": 2
}
