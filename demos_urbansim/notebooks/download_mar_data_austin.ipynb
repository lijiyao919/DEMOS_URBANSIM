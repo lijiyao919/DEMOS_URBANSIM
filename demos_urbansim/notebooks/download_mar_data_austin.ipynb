{
 "cells": [
  {
   "cell_type": "code",
   "execution_count": 1,
   "metadata": {},
   "outputs": [],
   "source": [
    "%load_ext autoreload\n",
    "%autoreload 2\n",
    "from synthpop.census_helpers import Census\n",
    "from synthpop import categorizer as cat\n",
    "import pandas as pd\n",
    "import numpy as np\n",
    "import os\n",
    "pd.set_option('display.max_columns', 500)"
   ]
  },
  {
   "cell_type": "code",
   "execution_count": 3,
   "metadata": {},
   "outputs": [
    {
     "name": "stderr",
     "output_type": "stream",
     "text": [
      "/home/ubuntu/github/synthpop/synthpop/census_helpers.py:208: DtypeWarning: Columns (107,108,109) have mixed types. Specify dtype option on import or set low_memory=False.\n",
      "  pums_df = pd.read_csv(loc, dtype={\n"
     ]
    }
   ],
   "source": [
    "c = Census(\"9a4c2a21c5df73622f43cf008155c45b68067d40\")\n",
    "p_pums = c.download_population_pums(\"48\")"
   ]
  },
  {
   "cell_type": "code",
   "execution_count": 5,
   "metadata": {},
   "outputs": [],
   "source": [
    "austin = pd.HDFStore(\"../data/custom_mpo_48197301_model_data.h5\")"
   ]
  },
  {
   "cell_type": "code",
   "execution_count": 6,
   "metadata": {},
   "outputs": [],
   "source": [
    "austin_hh = austin[\"households\"]\n",
    "austin_p = austin[\"persons\"]"
   ]
  },
  {
   "cell_type": "code",
   "execution_count": 7,
   "metadata": {},
   "outputs": [],
   "source": [
    "austin_p = pd.merge(austin_hh[\"serialno\"], austin_p, left_index=True, right_on='household_id')\n",
    "p_pums[\"serialno\"] = p_pums[\"serialno\"].astype(\"int64\")\n",
    "austin_p = pd.merge(austin_p.reset_index(), p_pums[[\"serialno\",\"SPORDER\", \"MAR\"]], left_on=['serialno', 'member_id'],\n",
    "                   right_on= ['serialno', 'SPORDER']).set_index(\"person_id\")"
   ]
  },
  {
   "cell_type": "code",
   "execution_count": 9,
   "metadata": {},
   "outputs": [],
   "source": [
    "austin[\"persons\"] = austin_p\n",
    "austin.close()"
   ]
  }
 ],
 "metadata": {
  "interpreter": {
   "hash": "5ceaccdbff584dc2806a284c92feef4bd2f300f3edbe859ecb120e3b1835c88d"
  },
  "kernelspec": {
   "display_name": "Python 3.8.11 ('probaflow3.8': conda)",
   "language": "python",
   "name": "python3"
  },
  "language_info": {
   "codemirror_mode": {
    "name": "ipython",
    "version": 3
   },
   "file_extension": ".py",
   "mimetype": "text/x-python",
   "name": "python",
   "nbconvert_exporter": "python",
   "pygments_lexer": "ipython3",
   "version": "3.8.11"
  },
  "orig_nbformat": 4
 },
 "nbformat": 4,
 "nbformat_minor": 2
}
