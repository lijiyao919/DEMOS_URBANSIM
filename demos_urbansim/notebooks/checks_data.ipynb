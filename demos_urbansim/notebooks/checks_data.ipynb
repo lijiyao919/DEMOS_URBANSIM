{
 "cells": [
  {
   "cell_type": "code",
   "execution_count": 1,
   "metadata": {},
   "outputs": [],
   "source": [
    "import pandas as pd\n",
    "from pandas import HDFStore\n",
    "\n",
    "data = HDFStore(\"../data/model_data_2017.h5\")# mod_dat = HDFStore(\"data/mod_dat.h5\")"
   ]
  },
  {
   "cell_type": "code",
   "execution_count": 2,
   "metadata": {},
   "outputs": [
    {
     "data": {
      "text/plain": [
       "['/zone_geoms',\n",
       " '/2017/blocks',\n",
       " '/2017/ect',\n",
       " '/2017/edges',\n",
       " '/2017/hct',\n",
       " '/2017/household_targets_acs',\n",
       " '/2017/household_validation_acs',\n",
       " '/2017/households',\n",
       " '/2017/job_county_targets_BEA',\n",
       " '/2017/job_flows',\n",
       " '/2017/job_targets',\n",
       " '/2017/job_validation',\n",
       " '/2017/jobs',\n",
       " '/2017/nodes',\n",
       " '/2017/persons',\n",
       " '/2017/price_targets',\n",
       " '/2017/residential_units',\n",
       " '/2017/travel_data',\n",
       " '/2017/unit_county_targets_PEP',\n",
       " '/2017/unit_targets',\n",
       " '/2017/unit_validation',\n",
       " '/2017/validation_ect',\n",
       " '/2017/validation_hct',\n",
       " '/2017/values',\n",
       " '/2011/blocks',\n",
       " '/2011/ect',\n",
       " '/2011/edges',\n",
       " '/2011/hct',\n",
       " '/2011/household_targets_acs',\n",
       " '/2011/household_validation_acs',\n",
       " '/2011/households',\n",
       " '/2011/job_county_targets_BEA',\n",
       " '/2011/job_flows',\n",
       " '/2011/job_targets',\n",
       " '/2011/job_validation',\n",
       " '/2011/jobs',\n",
       " '/2011/nodes',\n",
       " '/2011/persons',\n",
       " '/2011/price_targets',\n",
       " '/2011/residential_units',\n",
       " '/2011/travel_data',\n",
       " '/2011/unit_county_targets_PEP',\n",
       " '/2011/unit_targets',\n",
       " '/2011/unit_validation',\n",
       " '/2011/validation_ect',\n",
       " '/2011/validation_hct',\n",
       " '/2011/values']"
      ]
     },
     "execution_count": 2,
     "metadata": {},
     "output_type": "execute_result"
    }
   ],
   "source": [
    "data.keys()"
   ]
  },
  {
   "cell_type": "code",
   "execution_count": 3,
   "metadata": {},
   "outputs": [],
   "source": [
    "data.remove('/2011/blocks')\n",
    "data.remove('/2011/ect')\n",
    "data.remove('/2011/edges')\n",
    "data.remove('/2011/hct')\n",
    "data.remove('/2011/household_targets_acs')\n",
    "data.remove('/2011/household_validation_acs')\n",
    "data.remove('/2011/households')\n",
    "data.remove('/2011/job_county_targets_BEA')\n",
    "data.remove('/2011/job_flows')\n",
    "data.remove('/2011/job_targets')\n",
    "data.remove('/2011/job_validation')\n",
    "data.remove('/2011/jobs')\n",
    "data.remove('/2011/nodes')\n",
    "data.remove('/2011/persons')\n",
    "data.remove('/2011/price_targets')\n",
    "data.remove('/2011/residential_units')\n",
    "data.remove('/2011/travel_data')\n",
    "data.remove('/2011/unit_county_targets_PEP')\n",
    "data.remove('/2011/unit_targets')\n",
    "data.remove('/2011/unit_validation')\n",
    "data.remove('/2011/validation_ect')\n",
    "data.remove('/2011/validation_hct')\n",
    "data.remove('/2011/values')"
   ]
  },
  {
   "cell_type": "code",
   "execution_count": 4,
   "metadata": {},
   "outputs": [],
   "source": [
    "data.close()"
   ]
  },
  {
   "cell_type": "code",
   "execution_count": 6,
   "metadata": {},
   "outputs": [],
   "source": [
    "blocks = pd.read_hdf('../data/model_data_2017.h5', key='/2017/blocks')\n",
    "ect = pd.read_hdf('../data/model_data_2017.h5', key='/2017/ect')\n",
    "edges = pd.read_hdf('../data/model_data_2017.h5', key='/2017/edges')\n",
    "hct = pd.read_hdf('../data/model_data_2017.h5', key='/2017/hct')\n",
    "household_targets_acs = pd.read_hdf('../data/model_data_2017.h5', key='/2017/household_targets_acs')\n",
    "household_validation_acs = pd.read_hdf('../data/model_data_2017.h5', key='/2017/household_validation_acs')\n",
    "households = pd.read_hdf('../data/model_data_2017.h5', key='/2017/households')\n",
    "job_county_targets_BEA = pd.read_hdf('../data/model_data_2017.h5', key='/2017/job_county_targets_BEA')\n",
    "job_flows = pd.read_hdf('../data/model_data_2017.h5', key='/2017/job_flows')\n",
    "job_targets = pd.read_hdf('../data/model_data_2017.h5', key='/2017/job_targets')\n",
    "job_validation = pd.read_hdf('../data/model_data_2017.h5', key='/2017/job_validation')\n",
    "jobs = pd.read_hdf('../data/model_data_2017.h5', key='/2017/jobs')\n",
    "nodes = pd.read_hdf('../data/model_data_2017.h5', key='/2017/nodes')\n",
    "persons = pd.read_hdf('../data/model_data_2017.h5', key='/2017/persons')\n",
    "price_targets = pd.read_hdf('../data/model_data_2017.h5', key='/2017/price_targets')\n",
    "residential_units = pd.read_hdf('../data/model_data_2017.h5', key='/2017/residential_units')\n",
    "travel_data = pd.read_hdf('../data/model_data_2017.h5', key='/2017/travel_data')\n",
    "unit_county_targets_PEP = pd.read_hdf('../data/model_data_2017.h5', key='/2017/unit_county_targets_PEP')\n",
    "unit_targets = pd.read_hdf('../data/model_data_2017.h5', key='/2017/unit_targets')\n",
    "unit_validation = pd.read_hdf('../data/model_data_2017.h5', key='/2017/unit_validation')\n",
    "validation_ect = pd.read_hdf('../data/model_data_2017.h5', key='/2017/validation_ect')\n",
    "validation_hct = pd.read_hdf('../data/model_data_2017.h5', key='/2017/validation_hct')\n",
    "values = pd.read_hdf('../data/model_data_2017.h5', key='/2017/values')"
   ]
  },
  {
   "cell_type": "code",
   "execution_count": 9,
   "metadata": {},
   "outputs": [],
   "source": [
    "persons.index.name = \"person_id\""
   ]
  },
  {
   "cell_type": "code",
   "execution_count": 11,
   "metadata": {},
   "outputs": [],
   "source": [
    "ect.to_hdf(\"../data/model_data_2017.h5\", key=\"ect\")\n",
    "edges.to_hdf(\"../data/model_data_2017.h5\", key=\"edges\")\n",
    "hct.to_hdf(\"../data/model_data_2017.h5\", key=\"hct\")\n",
    "household_targets_acs.to_hdf(\"../data/model_data_2017.h5\", key=\"household_targets_acs\")\n",
    "household_validation_acs.to_hdf(\"../data/model_data_2017.h5\", key=\"household_validation_acs\")\n",
    "households.to_hdf(\"../data/model_data_2017.h5\", key=\"households\")\n",
    "job_county_targets_BEA.to_hdf(\"../data/model_data_2017.h5\", key=\"job_county_targets_BEA\")\n",
    "job_flows.to_hdf(\"../data/model_data_2017.h5\", key=\"job_flows\")\n",
    "job_targets.to_hdf(\"../data/model_data_2017.h5\", key=\"job_targets\")\n",
    "job_validation.to_hdf(\"../data/model_data_2017.h5\", key=\"job_validation\")\n",
    "jobs.to_hdf(\"../data/model_data_2017.h5\", key=\"jobs\")\n",
    "nodes.to_hdf(\"../data/model_data_2017.h5\", key=\"nodes\")\n",
    "persons.to_hdf(\"../data/model_data_2017.h5\", key=\"persons\")\n",
    "price_targets.to_hdf(\"../data/model_data_2017.h5\", key=\"price_targets\")\n",
    "residential_units.to_hdf(\"../data/model_data_2017.h5\", key=\"residential_units\")\n",
    "travel_data.to_hdf(\"../data/model_data_2017.h5\", key=\"travel_data\")\n",
    "unit_county_targets_PEP.to_hdf(\"../data/model_data_2017.h5\", key=\"unit_county_targets_PEP\")\n",
    "unit_targets.to_hdf(\"../data/model_data_2017.h5\", key=\"unit_targets\")\n",
    "unit_validation.to_hdf(\"../data/model_data_2017.h5\", key=\"unit_validation\")\n",
    "validation_ect.to_hdf(\"../data/model_data_2017.h5\", key=\"validation_ect\")\n",
    "validation_hct.to_hdf(\"../data/model_data_2017.h5\", key=\"validation_hct\")\n",
    "values.to_hdf(\"../data/model_data_2017.h5\", key=\"values\")\n",
    "blocks.to_hdf(\"../data/model_data_2017.h5\", key=\"blocks\")"
   ]
  },
  {
   "cell_type": "code",
   "execution_count": 12,
   "metadata": {},
   "outputs": [],
   "source": [
    "HDFSTORE = HDFStore(\"../data/model_data_2017.h5\")"
   ]
  },
  {
   "cell_type": "code",
   "execution_count": 13,
   "metadata": {},
   "outputs": [],
   "source": [
    "HDFSTORE.remove('/2017/blocks')\n",
    "HDFSTORE.remove('/2017/ect')\n",
    "HDFSTORE.remove('/2017/edges')\n",
    "HDFSTORE.remove('/2017/hct')\n",
    "HDFSTORE.remove('/2017/household_targets_acs')\n",
    "HDFSTORE.remove('/2017/household_validation_acs')\n",
    "HDFSTORE.remove('/2017/households')\n",
    "HDFSTORE.remove('/2017/job_county_targets_BEA')\n",
    "HDFSTORE.remove('/2017/job_flows')\n",
    "HDFSTORE.remove('/2017/job_targets')\n",
    "HDFSTORE.remove('/2017/job_validation')\n",
    "HDFSTORE.remove('/2017/jobs')\n",
    "HDFSTORE.remove('/2017/nodes')\n",
    "HDFSTORE.remove('/2017/persons')\n",
    "HDFSTORE.remove('/2017/price_targets')\n",
    "HDFSTORE.remove('/2017/residential_units')\n",
    "HDFSTORE.remove('/2017/travel_data')\n",
    "HDFSTORE.remove('/2017/unit_county_targets_PEP')\n",
    "HDFSTORE.remove('/2017/unit_targets')\n",
    "HDFSTORE.remove('/2017/unit_validation')\n",
    "HDFSTORE.remove('/2017/validation_ect')\n",
    "HDFSTORE.remove('/2017/validation_hct')\n",
    "HDFSTORE.remove('/2017/values')\n",
    "HDFSTORE.close()"
   ]
  },
  {
   "cell_type": "code",
   "execution_count": 14,
   "metadata": {},
   "outputs": [],
   "source": [
    "HDFSTORE = HDFStore(\"../data/model_data_2017.h5\")"
   ]
  },
  {
   "cell_type": "code",
   "execution_count": 15,
   "metadata": {},
   "outputs": [
    {
     "data": {
      "text/plain": [
       "['/blocks',\n",
       " '/ect',\n",
       " '/edges',\n",
       " '/hct',\n",
       " '/household_targets_acs',\n",
       " '/household_validation_acs',\n",
       " '/households',\n",
       " '/job_county_targets_BEA',\n",
       " '/job_flows',\n",
       " '/job_targets',\n",
       " '/job_validation',\n",
       " '/jobs',\n",
       " '/nodes',\n",
       " '/persons',\n",
       " '/price_targets',\n",
       " '/residential_units',\n",
       " '/travel_data',\n",
       " '/unit_county_targets_PEP',\n",
       " '/unit_targets',\n",
       " '/unit_validation',\n",
       " '/validation_ect',\n",
       " '/validation_hct',\n",
       " '/values',\n",
       " '/zone_geoms']"
      ]
     },
     "execution_count": 15,
     "metadata": {},
     "output_type": "execute_result"
    }
   ],
   "source": [
    "HDFSTORE.keys()"
   ]
  },
  {
   "cell_type": "code",
   "execution_count": 17,
   "metadata": {},
   "outputs": [],
   "source": [
    "HDFSTORE.close()"
   ]
  },
  {
   "cell_type": "code",
   "execution_count": null,
   "metadata": {},
   "outputs": [],
   "source": []
  }
 ],
 "metadata": {
  "kernelspec": {
   "display_name": "Python 3.8.13 ('probaflow3.8')",
   "language": "python",
   "name": "python3"
  },
  "language_info": {
   "codemirror_mode": {
    "name": "ipython",
    "version": 3
   },
   "file_extension": ".py",
   "mimetype": "text/x-python",
   "name": "python",
   "nbconvert_exporter": "python",
   "pygments_lexer": "ipython3",
   "version": "3.8.13"
  },
  "orig_nbformat": 4,
  "vscode": {
   "interpreter": {
    "hash": "5ceaccdbff584dc2806a284c92feef4bd2f300f3edbe859ecb120e3b1835c88d"
   }
  }
 },
 "nbformat": 4,
 "nbformat_minor": 2
}
