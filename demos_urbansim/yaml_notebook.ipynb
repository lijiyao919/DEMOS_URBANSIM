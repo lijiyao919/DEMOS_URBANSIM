{
 "cells": [
  {
   "cell_type": "code",
   "execution_count": 10,
   "metadata": {},
   "outputs": [],
   "source": [
    "import orca\n",
    "import yaml\n",
    "import pandas as pd"
   ]
  },
  {
   "cell_type": "code",
   "execution_count": 4,
   "metadata": {},
   "outputs": [],
   "source": [
    "def read_yaml(path):\n",
    "    \"\"\"A function to read YAML file\"\"\"\n",
    "    with open(path) as f:\n",
    "        config = list(yaml.safe_load_all(f))[0]\n",
    "\n",
    "    return config"
   ]
  },
  {
   "cell_type": "code",
   "execution_count": 5,
   "metadata": {},
   "outputs": [],
   "source": [
    "marriage_model = read_yaml(\n",
    "\"configs/calibrated_configs/custom/06197001/marriage.yml\"\n",
    ")"
   ]
  },
  {
   "cell_type": "code",
   "execution_count": 7,
   "metadata": {},
   "outputs": [],
   "source": [
    "orca.add_injectable(\"marriage_model_spec\", marriage_model)"
   ]
  },
  {
   "cell_type": "code",
   "execution_count": 12,
   "metadata": {},
   "outputs": [],
   "source": [
    "marriage_model = orca.get_injectable(\"marriage_model_spec\")"
   ]
  },
  {
   "cell_type": "code",
   "execution_count": 13,
   "metadata": {},
   "outputs": [],
   "source": [
    "pd.DataFrame(marriage_model[\"model_coeffs\"])\n",
    "marriage_variables = pd.DataFrame(marriage_model[\"spec_names\"])"
   ]
  },
  {
   "cell_type": "code",
   "execution_count": null,
   "metadata": {},
   "outputs": [],
   "source": []
  }
 ],
 "metadata": {
  "kernelspec": {
   "display_name": "Python 3.8.13 ('demos')",
   "language": "python",
   "name": "python3"
  },
  "language_info": {
   "codemirror_mode": {
    "name": "ipython",
    "version": 3
   },
   "file_extension": ".py",
   "mimetype": "text/x-python",
   "name": "python",
   "nbconvert_exporter": "python",
   "pygments_lexer": "ipython3",
   "version": "3.8.13"
  },
  "orig_nbformat": 4,
  "vscode": {
   "interpreter": {
    "hash": "95584ccacc7a70769dffb00105b88f5b52329f679bbb16b22f1bf7912b4e8228"
   }
  }
 },
 "nbformat": 4,
 "nbformat_minor": 2
}
